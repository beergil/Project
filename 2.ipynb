{
 "cells": [
  {
   "cell_type": "markdown",
   "metadata": {},
   "source": [
    "# Part 2. Joining Toronto Postal Codes and Corresponding Geographic Coordinates"
   ]
  },
  {
   "cell_type": "markdown",
   "metadata": {},
   "source": [
    "Now that we have built a dataframe of the postal code of each neighborhood along with the borough name and neighborhood name, in order to utilize the Foursquare location data, we need to get the latitude and the longitude coordinates of each neighborhood.\n",
    "\n",
    "Use the Geocoder package or the csv file to create the following dataframe:"
   ]
  },
  {
   "cell_type": "markdown",
   "metadata": {},
   "source": [
    "\n",
    "![alt text](https://d3c33hcgiwev3.cloudfront.net/imageAssetProxy.v1/HZ3jNHNOEeiMwApe4i-fLg_f44f0f10ccfaf42fcbdba9813364e173_Screen-Shot-2018-06-18-at-7.18.16-PM.png?expiry=1573171200000&hmac=2iIUYIRmN0YOyohMC7895YGI3k_Lgz4WWAnBiwsRdIA)"
   ]
  },
  {
   "cell_type": "code",
   "execution_count": 2,
   "metadata": {},
   "outputs": [],
   "source": [
    "import numpy as np # library to handle data in a vectorized manner\n",
    "import pandas as pd # library for data analysis\n",
    "\n",
    "import requests # library to handle requests\n",
    "import io "
   ]
  },
  {
   "cell_type": "markdown",
   "metadata": {},
   "source": [
    "## Importing Toronto Postal Code Data Frame "
   ]
  },
  {
   "cell_type": "code",
   "execution_count": 3,
   "metadata": {},
   "outputs": [
    {
     "data": {
      "text/html": [
       "<div>\n",
       "<style scoped>\n",
       "    .dataframe tbody tr th:only-of-type {\n",
       "        vertical-align: middle;\n",
       "    }\n",
       "\n",
       "    .dataframe tbody tr th {\n",
       "        vertical-align: top;\n",
       "    }\n",
       "\n",
       "    .dataframe thead th {\n",
       "        text-align: right;\n",
       "    }\n",
       "</style>\n",
       "<table border=\"1\" class=\"dataframe\">\n",
       "  <thead>\n",
       "    <tr style=\"text-align: right;\">\n",
       "      <th></th>\n",
       "      <th>Borough</th>\n",
       "      <th>Neighborhood</th>\n",
       "    </tr>\n",
       "    <tr>\n",
       "      <th>Postal Code</th>\n",
       "      <th></th>\n",
       "      <th></th>\n",
       "    </tr>\n",
       "  </thead>\n",
       "  <tbody>\n",
       "    <tr>\n",
       "      <th>M1B</th>\n",
       "      <td>Scarborough</td>\n",
       "      <td>Rouge, Malvern</td>\n",
       "    </tr>\n",
       "    <tr>\n",
       "      <th>M1C</th>\n",
       "      <td>Scarborough</td>\n",
       "      <td>Highland Creek, Rouge Hill, Port Union</td>\n",
       "    </tr>\n",
       "    <tr>\n",
       "      <th>M1E</th>\n",
       "      <td>Scarborough</td>\n",
       "      <td>Guildwood, Morningside, West Hill</td>\n",
       "    </tr>\n",
       "    <tr>\n",
       "      <th>M1G</th>\n",
       "      <td>Scarborough</td>\n",
       "      <td>Woburn</td>\n",
       "    </tr>\n",
       "    <tr>\n",
       "      <th>M1H</th>\n",
       "      <td>Scarborough</td>\n",
       "      <td>Cedarbrae</td>\n",
       "    </tr>\n",
       "  </tbody>\n",
       "</table>\n",
       "</div>"
      ],
      "text/plain": [
       "                 Borough                            Neighborhood\n",
       "Postal Code                                                     \n",
       "M1B          Scarborough                          Rouge, Malvern\n",
       "M1C          Scarborough  Highland Creek, Rouge Hill, Port Union\n",
       "M1E          Scarborough       Guildwood, Morningside, West Hill\n",
       "M1G          Scarborough                                  Woburn\n",
       "M1H          Scarborough                               Cedarbrae"
      ]
     },
     "execution_count": 3,
     "metadata": {},
     "output_type": "execute_result"
    }
   ],
   "source": [
    "p_code = \"postal_code.csv\"\n",
    "TorontoPostalCodes = pd.read_csv(p_code).set_index(\"Postcode\")\n",
    "TorontoPostalCodes.rename_axis(\"Postal Code\", axis = 'index', inplace = True)\n",
    "TorontoPostalCodes.head()"
   ]
  },
  {
   "cell_type": "markdown",
   "metadata": {},
   "source": [
    "## Getting the Geographic Coordinates of Toronto Neighbourhood for Utililizing Foursquare Location Data"
   ]
  },
  {
   "cell_type": "code",
   "execution_count": 4,
   "metadata": {},
   "outputs": [
    {
     "data": {
      "text/html": [
       "<div>\n",
       "<style scoped>\n",
       "    .dataframe tbody tr th:only-of-type {\n",
       "        vertical-align: middle;\n",
       "    }\n",
       "\n",
       "    .dataframe tbody tr th {\n",
       "        vertical-align: top;\n",
       "    }\n",
       "\n",
       "    .dataframe thead th {\n",
       "        text-align: right;\n",
       "    }\n",
       "</style>\n",
       "<table border=\"1\" class=\"dataframe\">\n",
       "  <thead>\n",
       "    <tr style=\"text-align: right;\">\n",
       "      <th></th>\n",
       "      <th>Postal Code</th>\n",
       "      <th>Latitude</th>\n",
       "      <th>Longitude</th>\n",
       "    </tr>\n",
       "  </thead>\n",
       "  <tbody>\n",
       "    <tr>\n",
       "      <th>0</th>\n",
       "      <td>M1B</td>\n",
       "      <td>43.806686</td>\n",
       "      <td>-79.194353</td>\n",
       "    </tr>\n",
       "    <tr>\n",
       "      <th>1</th>\n",
       "      <td>M1C</td>\n",
       "      <td>43.784535</td>\n",
       "      <td>-79.160497</td>\n",
       "    </tr>\n",
       "    <tr>\n",
       "      <th>2</th>\n",
       "      <td>M1E</td>\n",
       "      <td>43.763573</td>\n",
       "      <td>-79.188711</td>\n",
       "    </tr>\n",
       "    <tr>\n",
       "      <th>3</th>\n",
       "      <td>M1G</td>\n",
       "      <td>43.770992</td>\n",
       "      <td>-79.216917</td>\n",
       "    </tr>\n",
       "    <tr>\n",
       "      <th>4</th>\n",
       "      <td>M1H</td>\n",
       "      <td>43.773136</td>\n",
       "      <td>-79.239476</td>\n",
       "    </tr>\n",
       "  </tbody>\n",
       "</table>\n",
       "</div>"
      ],
      "text/plain": [
       "  Postal Code   Latitude  Longitude\n",
       "0         M1B  43.806686 -79.194353\n",
       "1         M1C  43.784535 -79.160497\n",
       "2         M1E  43.763573 -79.188711\n",
       "3         M1G  43.770992 -79.216917\n",
       "4         M1H  43.773136 -79.239476"
      ]
     },
     "execution_count": 4,
     "metadata": {},
     "output_type": "execute_result"
    }
   ],
   "source": [
    "url = \"http://cocl.us/Geospatial_data\"\n",
    "s = requests.get(url).content\n",
    "TorontoCoordinates = pd.read_csv(io.StringIO(s.decode('utf-8')))\n",
    "TorontoCoordinates.head()"
   ]
  },
  {
   "cell_type": "markdown",
   "metadata": {},
   "source": [
    "## Joining Toronto Postal Code and Toronto Geographic Coordinates"
   ]
  },
  {
   "cell_type": "code",
   "execution_count": 5,
   "metadata": {},
   "outputs": [
    {
     "data": {
      "text/html": [
       "<div>\n",
       "<style scoped>\n",
       "    .dataframe tbody tr th:only-of-type {\n",
       "        vertical-align: middle;\n",
       "    }\n",
       "\n",
       "    .dataframe tbody tr th {\n",
       "        vertical-align: top;\n",
       "    }\n",
       "\n",
       "    .dataframe thead th {\n",
       "        text-align: right;\n",
       "    }\n",
       "</style>\n",
       "<table border=\"1\" class=\"dataframe\">\n",
       "  <thead>\n",
       "    <tr style=\"text-align: right;\">\n",
       "      <th></th>\n",
       "      <th>Postal Code</th>\n",
       "      <th>Borough</th>\n",
       "      <th>Neighborhood</th>\n",
       "      <th>Latitude</th>\n",
       "      <th>Longitude</th>\n",
       "    </tr>\n",
       "  </thead>\n",
       "  <tbody>\n",
       "    <tr>\n",
       "      <th>0</th>\n",
       "      <td>M1B</td>\n",
       "      <td>Scarborough</td>\n",
       "      <td>Rouge, Malvern</td>\n",
       "      <td>43.806686</td>\n",
       "      <td>-79.194353</td>\n",
       "    </tr>\n",
       "    <tr>\n",
       "      <th>1</th>\n",
       "      <td>M1C</td>\n",
       "      <td>Scarborough</td>\n",
       "      <td>Highland Creek, Rouge Hill, Port Union</td>\n",
       "      <td>43.784535</td>\n",
       "      <td>-79.160497</td>\n",
       "    </tr>\n",
       "    <tr>\n",
       "      <th>2</th>\n",
       "      <td>M1E</td>\n",
       "      <td>Scarborough</td>\n",
       "      <td>Guildwood, Morningside, West Hill</td>\n",
       "      <td>43.763573</td>\n",
       "      <td>-79.188711</td>\n",
       "    </tr>\n",
       "    <tr>\n",
       "      <th>3</th>\n",
       "      <td>M1G</td>\n",
       "      <td>Scarborough</td>\n",
       "      <td>Woburn</td>\n",
       "      <td>43.770992</td>\n",
       "      <td>-79.216917</td>\n",
       "    </tr>\n",
       "    <tr>\n",
       "      <th>4</th>\n",
       "      <td>M1H</td>\n",
       "      <td>Scarborough</td>\n",
       "      <td>Cedarbrae</td>\n",
       "      <td>43.773136</td>\n",
       "      <td>-79.239476</td>\n",
       "    </tr>\n",
       "  </tbody>\n",
       "</table>\n",
       "</div>"
      ],
      "text/plain": [
       "  Postal Code      Borough                            Neighborhood   Latitude  \\\n",
       "0         M1B  Scarborough                          Rouge, Malvern  43.806686   \n",
       "1         M1C  Scarborough  Highland Creek, Rouge Hill, Port Union  43.784535   \n",
       "2         M1E  Scarborough       Guildwood, Morningside, West Hill  43.763573   \n",
       "3         M1G  Scarborough                                  Woburn  43.770992   \n",
       "4         M1H  Scarborough                               Cedarbrae  43.773136   \n",
       "\n",
       "   Longitude  \n",
       "0 -79.194353  \n",
       "1 -79.160497  \n",
       "2 -79.188711  \n",
       "3 -79.216917  \n",
       "4 -79.239476  "
      ]
     },
     "execution_count": 5,
     "metadata": {},
     "output_type": "execute_result"
    }
   ],
   "source": [
    "Toronto_Neighbourhoods = pd.merge(TorontoPostalCodes, TorontoCoordinates, on='Postal Code')\n",
    "Toronto_Neighbourhoods.head()"
   ]
  },
  {
   "cell_type": "code",
   "execution_count": 6,
   "metadata": {},
   "outputs": [
    {
     "data": {
      "text/plain": [
       "(103, 5)"
      ]
     },
     "execution_count": 6,
     "metadata": {},
     "output_type": "execute_result"
    }
   ],
   "source": [
    "Toronto_Neighbourhoods.shape"
   ]
  },
  {
   "cell_type": "markdown",
   "metadata": {},
   "source": [
    "## Exporting Newly Created Dataframe to CSV File"
   ]
  },
  {
   "cell_type": "code",
   "execution_count": 7,
   "metadata": {},
   "outputs": [],
   "source": [
    "Toronto_Neighbourhoods.to_csv('Toronto_Neighbourhoods.csv', index= False)"
   ]
  },
  {
   "cell_type": "code",
   "execution_count": null,
   "metadata": {},
   "outputs": [],
   "source": []
  },
  {
   "cell_type": "markdown",
   "metadata": {},
   "source": [
    "# Part 3. Importing and Cleaning Toronto Crime Data"
   ]
  },
  {
   "cell_type": "code",
   "execution_count": 14,
   "metadata": {},
   "outputs": [
    {
     "name": "stdout",
     "output_type": "stream",
     "text": [
      "Dimension of the dataframe  (8178, 29)\n"
     ]
    },
    {
     "data": {
      "text/html": [
       "<div>\n",
       "<style scoped>\n",
       "    .dataframe tbody tr th:only-of-type {\n",
       "        vertical-align: middle;\n",
       "    }\n",
       "\n",
       "    .dataframe tbody tr th {\n",
       "        vertical-align: top;\n",
       "    }\n",
       "\n",
       "    .dataframe thead th {\n",
       "        text-align: right;\n",
       "    }\n",
       "</style>\n",
       "<table border=\"1\" class=\"dataframe\">\n",
       "  <thead>\n",
       "    <tr style=\"text-align: right;\">\n",
       "      <th></th>\n",
       "      <th>X</th>\n",
       "      <th>Y</th>\n",
       "      <th>Index_</th>\n",
       "      <th>event_unique_id</th>\n",
       "      <th>occurrencedate</th>\n",
       "      <th>reporteddate</th>\n",
       "      <th>premisetype</th>\n",
       "      <th>ucr_code</th>\n",
       "      <th>ucr_ext</th>\n",
       "      <th>offence</th>\n",
       "      <th>...</th>\n",
       "      <th>occurrencedayofyear</th>\n",
       "      <th>occurrencedayofweek</th>\n",
       "      <th>occurrencehour</th>\n",
       "      <th>MCI</th>\n",
       "      <th>Division</th>\n",
       "      <th>Hood_ID</th>\n",
       "      <th>Neighbourhood</th>\n",
       "      <th>Lat</th>\n",
       "      <th>Long</th>\n",
       "      <th>ObjectId</th>\n",
       "    </tr>\n",
       "  </thead>\n",
       "  <tbody>\n",
       "    <tr>\n",
       "      <th>0</th>\n",
       "      <td>-79.385193</td>\n",
       "      <td>43.659229</td>\n",
       "      <td>2349</td>\n",
       "      <td>GO-20149004286</td>\n",
       "      <td>2014-06-20T10:55:00.000Z</td>\n",
       "      <td>2014-06-20T13:20:00.000Z</td>\n",
       "      <td>Apartment</td>\n",
       "      <td>2130</td>\n",
       "      <td>210</td>\n",
       "      <td>Theft Over</td>\n",
       "      <td>...</td>\n",
       "      <td>171.0</td>\n",
       "      <td>Friday</td>\n",
       "      <td>10</td>\n",
       "      <td>Theft Over</td>\n",
       "      <td>D52</td>\n",
       "      <td>76.0</td>\n",
       "      <td>Bay Street Corridor (76)</td>\n",
       "      <td>43.659229</td>\n",
       "      <td>-79.385193</td>\n",
       "      <td>2001.0</td>\n",
       "    </tr>\n",
       "    <tr>\n",
       "      <th>1</th>\n",
       "      <td>-79.425400</td>\n",
       "      <td>43.777592</td>\n",
       "      <td>2350</td>\n",
       "      <td>GO-20142411379</td>\n",
       "      <td>2014-07-02T00:20:00.000Z</td>\n",
       "      <td>2014-07-02T02:58:00.000Z</td>\n",
       "      <td>Outside</td>\n",
       "      <td>1457</td>\n",
       "      <td>100</td>\n",
       "      <td>Pointing A Firearm</td>\n",
       "      <td>...</td>\n",
       "      <td>183.0</td>\n",
       "      <td>Wednesday</td>\n",
       "      <td>0</td>\n",
       "      <td>Assault</td>\n",
       "      <td>D32</td>\n",
       "      <td>36.0</td>\n",
       "      <td>Newtonbrook West (36)</td>\n",
       "      <td>43.777592</td>\n",
       "      <td>-79.425400</td>\n",
       "      <td>2002.0</td>\n",
       "    </tr>\n",
       "    <tr>\n",
       "      <th>2</th>\n",
       "      <td>-79.425400</td>\n",
       "      <td>43.777592</td>\n",
       "      <td>2351</td>\n",
       "      <td>GO-20142411379</td>\n",
       "      <td>2014-07-02T00:20:00.000Z</td>\n",
       "      <td>2014-07-02T02:58:00.000Z</td>\n",
       "      <td>Outside</td>\n",
       "      <td>1610</td>\n",
       "      <td>100</td>\n",
       "      <td>Robbery With Weapon</td>\n",
       "      <td>...</td>\n",
       "      <td>183.0</td>\n",
       "      <td>Wednesday</td>\n",
       "      <td>0</td>\n",
       "      <td>Robbery</td>\n",
       "      <td>D32</td>\n",
       "      <td>36.0</td>\n",
       "      <td>Newtonbrook West (36)</td>\n",
       "      <td>43.777592</td>\n",
       "      <td>-79.425400</td>\n",
       "      <td>2003.0</td>\n",
       "    </tr>\n",
       "    <tr>\n",
       "      <th>3</th>\n",
       "      <td>-79.210373</td>\n",
       "      <td>43.801727</td>\n",
       "      <td>2352</td>\n",
       "      <td>GO-20142412127</td>\n",
       "      <td>2014-07-02T01:30:00.000Z</td>\n",
       "      <td>2014-07-02T05:40:00.000Z</td>\n",
       "      <td>House</td>\n",
       "      <td>2120</td>\n",
       "      <td>200</td>\n",
       "      <td>B&amp;E</td>\n",
       "      <td>...</td>\n",
       "      <td>183.0</td>\n",
       "      <td>Wednesday</td>\n",
       "      <td>1</td>\n",
       "      <td>Break and Enter</td>\n",
       "      <td>D42</td>\n",
       "      <td>132.0</td>\n",
       "      <td>Malvern (132)</td>\n",
       "      <td>43.801727</td>\n",
       "      <td>-79.210373</td>\n",
       "      <td>2004.0</td>\n",
       "    </tr>\n",
       "    <tr>\n",
       "      <th>4</th>\n",
       "      <td>-79.254334</td>\n",
       "      <td>43.835884</td>\n",
       "      <td>2354</td>\n",
       "      <td>GO-20142417548</td>\n",
       "      <td>2014-07-02T20:52:00.000Z</td>\n",
       "      <td>2014-07-02T20:57:00.000Z</td>\n",
       "      <td>Commercial</td>\n",
       "      <td>1430</td>\n",
       "      <td>100</td>\n",
       "      <td>Assault</td>\n",
       "      <td>...</td>\n",
       "      <td>183.0</td>\n",
       "      <td>Wednesday</td>\n",
       "      <td>20</td>\n",
       "      <td>Assault</td>\n",
       "      <td>D42</td>\n",
       "      <td>130.0</td>\n",
       "      <td>Milliken (130)</td>\n",
       "      <td>43.835884</td>\n",
       "      <td>-79.254334</td>\n",
       "      <td>2005.0</td>\n",
       "    </tr>\n",
       "  </tbody>\n",
       "</table>\n",
       "<p>5 rows × 29 columns</p>\n",
       "</div>"
      ],
      "text/plain": [
       "           X          Y  Index_ event_unique_id            occurrencedate  \\\n",
       "0 -79.385193  43.659229    2349  GO-20149004286  2014-06-20T10:55:00.000Z   \n",
       "1 -79.425400  43.777592    2350  GO-20142411379  2014-07-02T00:20:00.000Z   \n",
       "2 -79.425400  43.777592    2351  GO-20142411379  2014-07-02T00:20:00.000Z   \n",
       "3 -79.210373  43.801727    2352  GO-20142412127  2014-07-02T01:30:00.000Z   \n",
       "4 -79.254334  43.835884    2354  GO-20142417548  2014-07-02T20:52:00.000Z   \n",
       "\n",
       "               reporteddate premisetype  ucr_code  ucr_ext  \\\n",
       "0  2014-06-20T13:20:00.000Z   Apartment      2130      210   \n",
       "1  2014-07-02T02:58:00.000Z     Outside      1457      100   \n",
       "2  2014-07-02T02:58:00.000Z     Outside      1610      100   \n",
       "3  2014-07-02T05:40:00.000Z       House      2120      200   \n",
       "4  2014-07-02T20:57:00.000Z  Commercial      1430      100   \n",
       "\n",
       "               offence  ...  occurrencedayofyear occurrencedayofweek  \\\n",
       "0           Theft Over  ...                171.0          Friday       \n",
       "1   Pointing A Firearm  ...                183.0          Wednesday    \n",
       "2  Robbery With Weapon  ...                183.0          Wednesday    \n",
       "3                  B&E  ...                183.0          Wednesday    \n",
       "4              Assault  ...                183.0          Wednesday    \n",
       "\n",
       "   occurrencehour              MCI Division  Hood_ID  \\\n",
       "0              10       Theft Over      D52     76.0   \n",
       "1               0          Assault      D32     36.0   \n",
       "2               0          Robbery      D32     36.0   \n",
       "3               1  Break and Enter      D42    132.0   \n",
       "4              20          Assault      D42    130.0   \n",
       "\n",
       "              Neighbourhood        Lat       Long  ObjectId  \n",
       "0  Bay Street Corridor (76)  43.659229 -79.385193    2001.0  \n",
       "1     Newtonbrook West (36)  43.777592 -79.425400    2002.0  \n",
       "2     Newtonbrook West (36)  43.777592 -79.425400    2003.0  \n",
       "3             Malvern (132)  43.801727 -79.210373    2004.0  \n",
       "4            Milliken (130)  43.835884 -79.254334    2005.0  \n",
       "\n",
       "[5 rows x 29 columns]"
      ]
     },
     "execution_count": 14,
     "metadata": {},
     "output_type": "execute_result"
    }
   ],
   "source": [
    "crime = pd.read_csv('MCI_2014_to_2018.csv')\n",
    "print('Dimension of the dataframe ',crime.shape)\n",
    "crime.head()"
   ]
  },
  {
   "cell_type": "code",
   "execution_count": 9,
   "metadata": {},
   "outputs": [
    {
     "data": {
      "text/plain": [
       "X                      0\n",
       "Y                      0\n",
       "Index_                 0\n",
       "event_unique_id        0\n",
       "occurrencedate         0\n",
       "reporteddate           0\n",
       "premisetype            0\n",
       "ucr_code               0\n",
       "ucr_ext                0\n",
       "offence                0\n",
       "reportedyear           0\n",
       "reportedmonth          0\n",
       "reportedday            0\n",
       "reporteddayofyear      0\n",
       "reporteddayofweek      0\n",
       "reportedhour           0\n",
       "occurrenceyear         4\n",
       "occurrencemonth        4\n",
       "occurrenceday          4\n",
       "occurrencedayofyear    4\n",
       "occurrencedayofweek    4\n",
       "occurrencehour         0\n",
       "MCI                    0\n",
       "Division               1\n",
       "Hood_ID                1\n",
       "Neighbourhood          1\n",
       "Lat                    1\n",
       "Long                   1\n",
       "ObjectId               1\n",
       "dtype: int64"
      ]
     },
     "execution_count": 9,
     "metadata": {},
     "output_type": "execute_result"
    }
   ],
   "source": [
    "crime.isnull().sum()"
   ]
  },
  {
   "cell_type": "code",
   "execution_count": 10,
   "metadata": {},
   "outputs": [
    {
     "data": {
      "text/plain": [
       "(8173, 29)"
      ]
     },
     "execution_count": 10,
     "metadata": {},
     "output_type": "execute_result"
    }
   ],
   "source": [
    "#Keep the DataFrame with valid entries in the same variable\n",
    "crime.dropna(inplace=True)\n",
    "crime.shape"
   ]
  },
  {
   "cell_type": "code",
   "execution_count": 11,
   "metadata": {},
   "outputs": [
    {
     "data": {
      "text/plain": [
       "X                      0\n",
       "Y                      0\n",
       "Index_                 0\n",
       "event_unique_id        0\n",
       "occurrencedate         0\n",
       "reporteddate           0\n",
       "premisetype            0\n",
       "ucr_code               0\n",
       "ucr_ext                0\n",
       "offence                0\n",
       "reportedyear           0\n",
       "reportedmonth          0\n",
       "reportedday            0\n",
       "reporteddayofyear      0\n",
       "reporteddayofweek      0\n",
       "reportedhour           0\n",
       "occurrenceyear         0\n",
       "occurrencemonth        0\n",
       "occurrenceday          0\n",
       "occurrencedayofyear    0\n",
       "occurrencedayofweek    0\n",
       "occurrencehour         0\n",
       "MCI                    0\n",
       "Division               0\n",
       "Hood_ID                0\n",
       "Neighbourhood          0\n",
       "Lat                    0\n",
       "Long                   0\n",
       "ObjectId               0\n",
       "dtype: int64"
      ]
     },
     "execution_count": 11,
     "metadata": {},
     "output_type": "execute_result"
    }
   ],
   "source": [
    "crime.isnull().sum()"
   ]
  },
  {
   "cell_type": "code",
   "execution_count": 12,
   "metadata": {},
   "outputs": [],
   "source": [
    "crime.to_csv('crimeclean.csv')"
   ]
  },
  {
   "cell_type": "code",
   "execution_count": null,
   "metadata": {},
   "outputs": [],
   "source": []
  }
 ],
 "metadata": {
  "kernelspec": {
   "display_name": "Python",
   "language": "python",
   "name": "conda-env-python-py"
  },
  "language_info": {
   "codemirror_mode": {
    "name": "ipython",
    "version": 3
   },
   "file_extension": ".py",
   "mimetype": "text/x-python",
   "name": "python",
   "nbconvert_exporter": "python",
   "pygments_lexer": "ipython3",
   "version": "3.6.7"
  }
 },
 "nbformat": 4,
 "nbformat_minor": 4
}
